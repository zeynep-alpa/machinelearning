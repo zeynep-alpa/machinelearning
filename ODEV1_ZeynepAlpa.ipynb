{
  "nbformat": 4,
  "nbformat_minor": 0,
  "metadata": {
    "colab": {
      "provenance": []
    },
    "kernelspec": {
      "name": "python3",
      "display_name": "Python 3"
    },
    "language_info": {
      "name": "python"
    }
  },
  "cells": [
    {
      "cell_type": "markdown",
      "source": [
        "Bu ödev aynı zamanda sunum konumuzla ilgili olduğundan Zeynep ve Nisa olarak birlikte yaptık."
      ],
      "metadata": {
        "id": "9_s_oH0pX1nG"
      }
    },
    {
      "cell_type": "code",
      "source": [
        "import seaborn as sns\n",
        "import pandas as pd\n",
        "import matplotlib.pyplot as plt\n",
        "import numpy as np\n",
        "from sklearn.preprocessing import MinMaxScaler"
      ],
      "metadata": {
        "id": "6-viy1hmZEQf"
      },
      "execution_count": null,
      "outputs": []
    },
    {
      "cell_type": "markdown",
      "source": [
        "Bu kod parçasında, veri analizi ve görselleştirmesi yapmak için gerekli olan bazı kütüphaneleri içe aktarıyoruz. İlk olarak, seaborn kütüphanesini kullanarak istatistiksel veri görselleştirmeleri oluşturabiliyoruz. Seaborn, verileri görselleştirmemizi sağlıyor. Ardından pandas kütüphanesi ile veri analizi yapıyoruz. Pandas, veri çerçeveleri (DataFrame) ile çalışmamızı kolaylaştırıyor ve veri setlerini yükleyip düzenleyebilmemizi sağlıyor. matplotlib.pyplot kütüphanesi, genel veri görselleştirmeleri için kullanılıyor ve grafikler oluşturmamıza olanak tanıyor; Seaborn ile birlikte kullanarak daha etkili görselleştirmeler elde edebiliyoruz. numpy kütüphanesi ise sayısal hesaplamalar için kullandığımız bir kütüphane. Özellikle dizilerle (array) matematiksel işlemler yaparak veri setimdeki sayısal verileri işlemek için kullanıyoruz. Son olarak, scikit-learn kütüphanesinden MinMaxScaler fonksiyonunu kullanarak veriyi belirli bir aralığa (genellikle 0 ile 1 arasında) ölçeklendirebiliyoruz.Bu kütüphanelerle veri setlerini yükleyebilir, inceleyebilir, temizleyebilir ve görselleştirebiliriz."
      ],
      "metadata": {
        "id": "fZV12Pr6ZLiP"
      }
    },
    {
      "cell_type": "code",
      "source": [
        "# 1. Veriyi Yükleme\n",
        "planets = sns.load_dataset('planets')\n",
        "original_planets = planets.copy()  # Başlangıç verisi kopyalandı"
      ],
      "metadata": {
        "id": "MNGR1OBLalfZ"
      },
      "execution_count": null,
      "outputs": []
    },
    {
      "cell_type": "markdown",
      "source": [
        "Bu kod parçasında, ilk olarak seaborn kütüphanesini kullanarak \"planets\" adlı veri setini yüklüyoruz. planets = sns.load_dataset('planets') satırı, Seaborn’un sunduğu hazır veri setlerinden birini alarak planets adında bir değişkene atıyor. Bu veri seti, gezegenler hakkında çeşitli bilgileri içeriyor, böylece veri analizi yapmamıza olanak tanıyor.\n",
        "\n",
        "Ardından, original_planets = planets.copy() satırı ile yüklediğimiz veri setinin bir kopyasını alıyoruz. Burada, copy() fonksiyonunu kullanarak orijinal verimizi koruyoruz. Bu, ilerleyen adımlarda veri setimiz üzerinde değişiklikler yaparken, orijinal verimizin kaybolmamasını sağlıyor çünkü ödevde her bir adımın işlenmemiş veri setine uygulanması bekleniyor."
      ],
      "metadata": {
        "id": "CaYARHwwaoYv"
      }
    },
    {
      "cell_type": "code",
      "source": [
        "# 2. Verinin Dağılımını Çizdirme\n",
        "original_planets.hist(bins=30, figsize=(15, 10))\n",
        "plt.suptitle('Feature Distributions of Original Data')\n",
        "plt.show()"
      ],
      "metadata": {
        "id": "whlMFnoAa-hZ"
      },
      "execution_count": null,
      "outputs": []
    },
    {
      "cell_type": "markdown",
      "source": [
        "Bu bölümde veri setinin dağılımını görselleştirmek için bir histogram oluşturuyoruz. original_planets.hist(bins=30, figsize=(15, 10)) satırı ile veri setindeki tüm sayısal sütunlar için histogramlar çiziyoruz. Burada, bins=30 parametresi ile her histogramın 30 çubuğa (bin) bölünmesini sağlıyoruz. Bu, verinin dağılımını daha detaylı bir şekilde görmemize yardımcı oluyor.\n",
        "\n",
        "figsize=(15, 10) ise oluşturduğumuz grafiklerin boyutunu ayarlıyor; bu sayede grafiklerimizi daha rahat görebiliyoruz. Daha sonra plt.suptitle('Feature Distributions of Original Data') ile histogramların üstüne genel bir başlık ekliyoruz.\n",
        "\n",
        "Son olarak plt.show() komutu ile oluşturduğumuz histogramları ekranda gösteriyoruz. Bu adımlar sayesinde, veri setindeki sayısal değişkenlerin dağılımlarını görsel olarak inceleyebiliyoruz."
      ],
      "metadata": {
        "id": "J5cMwMXBa-zn"
      }
    },
    {
      "cell_type": "code",
      "source": [
        "# 3. Korelasyon Analizi\n",
        "# Sadece sayısal sütunları kullanarak korelasyon matrisini hesaplayalım\n",
        "correlation_matrix = original_planets.select_dtypes(include=[np.number]).corr()\n",
        "plt.figure(figsize=(10, 8))\n",
        "sns.heatmap(correlation_matrix, annot=True, cmap='coolwarm')\n",
        "plt.title('Correlation Matrix of Original Data')\n",
        "plt.show()"
      ],
      "metadata": {
        "id": "RID6AqQ2biNB"
      },
      "execution_count": null,
      "outputs": []
    },
    {
      "cell_type": "markdown",
      "source": [
        "Bu bölümde veri setinin sayısal sütunları arasındaki ilişkileri analiz etmek için bir korelasyon matrisini hesaplıyoruz. correlation_matrix = original_planets.select_dtypes(include=[np.number]).corr() satırı, veri setimizdeki sadece sayısal sütunları seçiyor ve bu sütunlar arasındaki korelasyonları hesaplıyor.\n",
        "Daha sonra plt.figure(figsize=(10, 8)) ile oluşturacağımız ısı haritasının boyutlarını ayarlıyoruz. Burada, genişliği 10 inç ve yüksekliği 8 inç olarak belirliyoruz.\n",
        "\n",
        "sns.heatmap(correlation_matrix, annot=True, cmap='coolwarm') satırı, korelasyon matrisini bir ısı haritası olarak görselleştiriyor. annot=True parametresi, her hücredeki korelasyon değerlerini göstermemizi sağlıyor, böylece hangi değişkenlerin birbirleriyle nasıl bir ilişkiye sahip olduğunu kolayca görebiliyoruz. cmap='coolwarm' parametresi ise renk paletini belirliyor; bu sayede pozitif ve negatif korelasyonlar arasında bir geçiş sağlanıyor.\n",
        "\n",
        "Son olarak, plt.title('Correlation Matrix of Original Data') ile ısı haritasının üstüne bir başlık ekliyoruz ve plt.show() ile oluşturduğumuz grafiği ekranda gösteriyoruz."
      ],
      "metadata": {
        "id": "gsklKyeSbipr"
      }
    },
    {
      "cell_type": "code",
      "source": [
        "# 4. Eksik Verileri İnceleme\n",
        "print(\"Eksik Veriler:\\n\", original_planets.isnull().sum())\n",
        "# Veride eksik değerlerin sayısını gösterir. Özellikle 'mass' ve 'orbital_period' sütunlarında eksiklikler var.\n"
      ],
      "metadata": {
        "id": "vpyo5jvqbqUa"
      },
      "execution_count": null,
      "outputs": []
    },
    {
      "cell_type": "markdown",
      "source": [
        "Bu bölümde veri setindeki eksik verileri incelemek için bir kontrol yapıyoruz. print(\"Eksik Veriler:\\n\", original_planets.isnull().sum()) satırı, veri setindeki her bir sütundaki eksik değerlerin sayısını hesaplar ve ekrana yazdırır. isnull() fonksiyonu, veri çerçevesindeki eksik değerleri kontrol ederken sum() fonksiyonu ise her sütundaki eksik değerlerin toplamını alır.\n",
        "\n",
        "Çıktıda, her bir sütundaki eksik değer sayısını göreceğiz. Özellikle 'mass' ve 'orbital_period' sütunlarında eksik verilerin olduğunu belirtiyoruz. Bu, veri setimizi analiz ederken dikkat etmemiz gereken bir durumdur, çünkü eksik veriler, modelimizin doğruluğunu olumsuz etkileyebilir.\n"
      ],
      "metadata": {
        "id": "lP336mp8brxP"
      }
    },
    {
      "cell_type": "code",
      "source": [
        "# 5. Eksik Verileri Doldurma\n",
        "planets['mass'].fillna(planets['mass'].mean(), inplace=True)  # Ortalama ile dolduruldu\n",
        "planets['orbital_period'].fillna(planets['orbital_period'].median(), inplace=True)  # Medyan ile dolduruldu\n",
        "print(\"Eksik Veriler Doldurulduktan Sonra:\\n\", planets.isnull().sum())\n"
      ],
      "metadata": {
        "id": "nJ_-e7jZceqE"
      },
      "execution_count": null,
      "outputs": []
    },
    {
      "cell_type": "markdown",
      "source": [
        "Bu bölümde planets veri setindeki eksik verileri dolduruyoruz. İlk olarak eksik değerleri sütunun ortalaması ile dolduruyoruz. fillna() fonksiyonu, belirli bir değeri kullanarak eksik verileri doldurmamıza olanak tanır. mean() fonksiyonu ise sütunun ortalama değerini hesaplar. inplace=True parametresi, değişikliklerin doğrudan mevcut veri setine uygulanmasını sağlar.\n",
        "\n",
        "Daha sonra, planets['orbital_period'].fillna(planets['orbital_period'].median(), inplace=True) satırı ile 'orbital_period' (yörünge dönemi) sütunundaki eksik değerleri, bu sütunun medyanı ile dolduruyoruz."
      ],
      "metadata": {
        "id": "4n2EI2ugcfEO"
      }
    },
    {
      "cell_type": "code",
      "source": [
        "# 6. Aykırı Veri Tespiti (Kutu Grafiği)\n",
        "for column in original_planets.select_dtypes(include=[np.number]).columns:\n",
        "    plt.figure(figsize=(8, 4))\n",
        "    sns.boxplot(x=planets[column])\n",
        "    plt.title(f'Boxplot of {column} After Filling Missing Values')\n",
        "    plt.show()"
      ],
      "metadata": {
        "id": "ixgcrSeVdD_q"
      },
      "execution_count": null,
      "outputs": []
    },
    {
      "cell_type": "markdown",
      "source": [
        "Bu bölümde veri setindeki sayısal sütunlar için aykırı değerleri tespit etmek amacıyla kutu grafikleri oluşturuyoruz. Aykırı değerler, veri setindeki diğer değerlerden önemli ölçüde farklı olan ve genellikle dikkate alınması gereken verilerdir.\n",
        "\n",
        "İlk olarak, for column in original_planets.select_dtypes(include=[np.number]).columns: ifadesi ile veri setimizdeki tüm sayısal sütunları döngüye alıyoruz. Her bir sütun için aşağıdaki adımları gerçekleştiriyoruz.\n",
        "\n",
        "plt.figure(figsize=(8, 4)) ile her bir grafik için boyut ayarlıyoruz; burada genişliği 8 inç ve yüksekliği 4 inç olarak belirliyoruz. Ardından, sns.boxplot(x=planets[column]) satırı ile kutu grafiğini oluşturuyoruz. x=planets[column] kısmı, o anki sütunun değerlerini kutu grafiğinde kullanmamızı sağlıyor.\n",
        "\n",
        "Son olarak, plt.title(f'Boxplot of {column} After Filling Missing Values') ile her grafik için bir başlık ekliyoruz. Bu başlık, hangi sütunun görselleştirildiğini belirtmek için önemlidir. plt.show() ile de oluşturduğumuz kutu grafiğini ekranda gösteriyoruz.\n",
        "\n",
        "Bu kutu grafikleri sayesinde, her bir sayısal değişkenin dağılımını, medyanını ve olası aykırı değerlerini görebiliyoruz."
      ],
      "metadata": {
        "id": "5hx8IZzwdFGX"
      }
    },
    {
      "cell_type": "code",
      "source": [
        "# 7. Aykırı Değerleri Çıkarma\n",
        "for column in planets.select_dtypes(include=[np.number]).columns:\n",
        "    Q1 = planets[column].quantile(0.25)  # 1. çeyrek\n",
        "    Q3 = planets[column].quantile(0.75)  # 3. çeyrek\n",
        "    IQR = Q3 - Q1  # IQR hesaplandı\n",
        "    lower_bound = Q1 - 1.5 * IQR  # Alt sınır\n",
        "    upper_bound = Q3 + 1.5 * IQR  # Üst sınır\n",
        "    planets = planets[(planets[column] >= lower_bound) & (planets[column] <= upper_bound)]\n",
        "# Aykırı değerler IQR yöntemiyle çıkarıldı."
      ],
      "metadata": {
        "id": "NMTSShRtdXzG"
      },
      "execution_count": null,
      "outputs": []
    },
    {
      "cell_type": "markdown",
      "source": [
        "Bu bölümde, planets veri setindeki aykırı değerleri IQR (Interquartile Range) yöntemi ile çıkarıyoruz. Aykırı değerleri temizlemek, veri setimizin kalitesini artırarak modelleme sürecinde daha doğru sonuçlar elde etmemizi sağlıyor.\n",
        "\n",
        "İlk olarak, for column in planets.select_dtypes(include=[np.number]).columns: ifadesi ile veri setindeki tüm sayısal sütunları döngüye alıyoruz. Her bir sütun için aşağıdaki adımları gerçekleştiriyoruz:\n",
        "\n",
        "Çeyrek Hesaplama:\n",
        "\n",
        "Q1 = planets[column].quantile(0.25): 1. çeyrek (Q1) değerini hesaplıyoruz. Bu, verinin alt yüzde 25'inin üst sınırını belirtir.\n",
        "Q3 = planets[column].quantile(0.75): 3. çeyrek (Q3) değerini hesaplıyoruz. Bu, verinin üst yüzde 25'inin alt sınırını gösterir.\n",
        "IQR Hesaplama:\n",
        "\n",
        "IQR = Q3 - Q1: IQR, 1. ve 3. çeyrek arasındaki farktır ve verinin ortalama dağılımını temsil eder.\n",
        "Sınırların Belirlenmesi:\n",
        "\n",
        "lower_bound = Q1 - 1.5 * IQR: Alt sınırı hesaplıyoruz. Bu, Q1 değerinin 1.5 katı kadar aşağıda bulunan değerdir.\n",
        "upper_bound = Q3 + 1.5 * IQR: Üst sınırı hesaplıyoruz. Bu, Q3 değerinin 1.5 katı kadar yukarıda bulunan değerdir.\n",
        "Aykırı Değerlerin Çıkarılması:\n",
        "\n",
        "planets = planets[(planets[column] >= lower_bound) & (planets[column] <= upper_bound)]: Bu satır, belirlenen alt ve üst sınırlar arasında kalan değerleri tutarak veri setimizi güncelliyor. Yani, aykırı değerleri çıkarıyoruz."
      ],
      "metadata": {
        "id": "EnGktwePdYfZ"
      }
    },
    {
      "cell_type": "code",
      "source": [
        "# 8. Veriyi Normalize Etme\n",
        "scaler = MinMaxScaler()\n",
        "planets_scaled = pd.DataFrame(scaler.fit_transform(planets.select_dtypes(include=[np.number])),\n",
        "                               columns=planets.select_dtypes(include=[np.number]).columns)\n",
        "print(\"Normalizasyon Sonrası İlk 5 Veri:\\n\", planets_scaled.head())\n",
        "# Normalizasyon, verinin 0-1 aralığında olmasını sağlar. Bu, modelleme sürecinde faydalıdır.\n"
      ],
      "metadata": {
        "id": "9UKEbHZ2diHi"
      },
      "execution_count": null,
      "outputs": []
    },
    {
      "cell_type": "markdown",
      "source": [
        "Bu bölümde, planets veri setindeki sayısal değişkenleri normalleştiriyoruz. Normalizasyon, verinin belirli bir aralığa (genellikle 0 ile 1 arasında) ölçeklendirilmesi işlemidir ve bu, makine öğrenimi modellerinin daha iyi performans göstermesine yardımcı olur. İlk olarak, MinMaxScaler sınıfından bir örnek oluşturuyoruz. Bu sınıf, her bir özelliğin minimum ve maksimum değerlerini kullanarak veriyi 0 ile 1 arasına ölçeklendirir. Ardından, fit_transform() fonksiyonu ile planets veri setindeki sayısal sütunları normalleştiriyoruz. Bu işlem, scaler'ı veriye uygulayıp aynı zamanda veriyi ölçeklendirerek yeni bir DataFrame olan planets_scaled içine yerleştiriyor. Ayrıca, orijinal sütun adlarını korumak için columns parametresini kullanıyoruz. Son olarak, normalleştirilmiş veri setinin ilk 5 kaydını ekrana yazdırıyoruz."
      ],
      "metadata": {
        "id": "ZMe-6k0cdibj"
      }
    },
    {
      "cell_type": "code",
      "source": [
        "\n",
        "# 9. Sonuçları İnceleme\n",
        "print(\"İşlenmiş Veri Setinin Özeti:\\n\", planets_scaled.describe())\n",
        "# İşlenmiş verinin istatistiksel özetini gösterir. Aykırı değerler ve eksik veriler giderildiği için daha temiz bir veri elde edilir.\n"
      ],
      "metadata": {
        "id": "-PLhiyFpYGsU"
      },
      "execution_count": null,
      "outputs": []
    },
    {
      "cell_type": "markdown",
      "source": [
        "Bu bölümde, işlenmiş veri setinin istatistiksel özetini inceliyoruz. print(\"İşlenmiş Veri Setinin Özeti:\\n\", planets_scaled.describe()) satırı, planets_scaled veri setindeki sayısal sütunların istatistiksel özetini gösteriyor. describe() fonksiyonu, her bir sütun için önemli istatistikleri (ortalama, standart sapma, minimum, maksimum, çeyrek değerler vb.) hesaplar ve bunları bir tablo halinde sunar."
      ],
      "metadata": {
        "id": "WEdVSi9Zduef"
      }
    }
  ]
}